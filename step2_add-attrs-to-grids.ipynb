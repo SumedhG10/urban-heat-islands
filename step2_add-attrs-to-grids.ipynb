{
 "cells": [
  {
   "cell_type": "code",
   "execution_count": 1,
   "metadata": {},
   "outputs": [],
   "source": [
    "import pandas as pd\n",
    "import geopandas as gpd\n",
    "\n",
    "from pathlib import Path\n",
    "data = Path('data/data_for_model')"
   ]
  },
  {
   "cell_type": "code",
   "execution_count": 2,
   "metadata": {},
   "outputs": [
    {
     "name": "stderr",
     "output_type": "stream",
     "text": [
      "'grep' is not recognized as an internal or external command,\n",
      "operable program or batch file.\n"
     ]
    }
   ],
   "source": [
    "%ls data | grep feather"
   ]
  },
  {
   "cell_type": "code",
   "execution_count": 4,
   "metadata": {},
   "outputs": [],
   "source": [
    "attrs = gpd.read_feather(f'data/temp/far_bsc_primary.feather')"
   ]
  },
  {
   "cell_type": "code",
   "execution_count": 5,
   "metadata": {},
   "outputs": [],
   "source": [
    "grid = gpd.read_feather(f'{data}/grid.feather')"
   ]
  },
  {
   "cell_type": "code",
   "execution_count": 6,
   "metadata": {},
   "outputs": [
    {
     "data": {
      "text/plain": [
       "(92596, 6)"
      ]
     },
     "execution_count": 6,
     "metadata": {},
     "output_type": "execute_result"
    }
   ],
   "source": [
    "grid.shape"
   ]
  },
  {
   "cell_type": "code",
   "execution_count": 7,
   "metadata": {},
   "outputs": [
    {
     "data": {
      "text/plain": [
       "(435479, 13)"
      ]
     },
     "execution_count": 7,
     "metadata": {},
     "output_type": "execute_result"
    }
   ],
   "source": [
    "attrs.shape"
   ]
  },
  {
   "cell_type": "code",
   "execution_count": 8,
   "metadata": {},
   "outputs": [
    {
     "data": {
      "text/html": [
       "<div>\n",
       "<style scoped>\n",
       "    .dataframe tbody tr th:only-of-type {\n",
       "        vertical-align: middle;\n",
       "    }\n",
       "\n",
       "    .dataframe tbody tr th {\n",
       "        vertical-align: top;\n",
       "    }\n",
       "\n",
       "    .dataframe thead th {\n",
       "        text-align: right;\n",
       "    }\n",
       "</style>\n",
       "<table border=\"1\" class=\"dataframe\">\n",
       "  <thead>\n",
       "    <tr style=\"text-align: right;\">\n",
       "      <th></th>\n",
       "      <th>id_x</th>\n",
       "      <th>title</th>\n",
       "      <th>idx</th>\n",
       "      <th>ward_num</th>\n",
       "      <th>name</th>\n",
       "      <th>geometry</th>\n",
       "    </tr>\n",
       "  </thead>\n",
       "  <tbody>\n",
       "    <tr>\n",
       "      <th>0</th>\n",
       "      <td>(47965, 87513, 18)</td>\n",
       "      <td>XYZ tile (47965, 87513, 18)</td>\n",
       "      <td>4.796588e+11</td>\n",
       "      <td>2</td>\n",
       "      <td>02L</td>\n",
       "      <td>POLYGON ((281388.362 5678062.191, 281392.439 5...</td>\n",
       "    </tr>\n",
       "    <tr>\n",
       "      <th>1</th>\n",
       "      <td>(47966, 87513, 18)</td>\n",
       "      <td>XYZ tile (47966, 87513, 18)</td>\n",
       "      <td>4.796688e+11</td>\n",
       "      <td>2</td>\n",
       "      <td>02L</td>\n",
       "      <td>POLYGON ((281484.255 5678058.105, 281488.329 5...</td>\n",
       "    </tr>\n",
       "    <tr>\n",
       "      <th>2</th>\n",
       "      <td>(47967, 87513, 18)</td>\n",
       "      <td>XYZ tile (47967, 87513, 18)</td>\n",
       "      <td>4.796788e+11</td>\n",
       "      <td>2</td>\n",
       "      <td>02L</td>\n",
       "      <td>POLYGON ((281580.147 5678054.020, 281584.220 5...</td>\n",
       "    </tr>\n",
       "    <tr>\n",
       "      <th>3</th>\n",
       "      <td>(47968, 87513, 18)</td>\n",
       "      <td>XYZ tile (47968, 87513, 18)</td>\n",
       "      <td>4.796888e+11</td>\n",
       "      <td>2</td>\n",
       "      <td>02L</td>\n",
       "      <td>POLYGON ((281676.040 5678049.937, 281680.111 5...</td>\n",
       "    </tr>\n",
       "    <tr>\n",
       "      <th>4</th>\n",
       "      <td>(47969, 87513, 18)</td>\n",
       "      <td>XYZ tile (47969, 87513, 18)</td>\n",
       "      <td>4.796988e+11</td>\n",
       "      <td>2</td>\n",
       "      <td>02L</td>\n",
       "      <td>POLYGON ((281771.933 5678045.856, 281776.002 5...</td>\n",
       "    </tr>\n",
       "  </tbody>\n",
       "</table>\n",
       "</div>"
      ],
      "text/plain": [
       "                 id_x                        title           idx ward_num  \\\n",
       "0  (47965, 87513, 18)  XYZ tile (47965, 87513, 18)  4.796588e+11        2   \n",
       "1  (47966, 87513, 18)  XYZ tile (47966, 87513, 18)  4.796688e+11        2   \n",
       "2  (47967, 87513, 18)  XYZ tile (47967, 87513, 18)  4.796788e+11        2   \n",
       "3  (47968, 87513, 18)  XYZ tile (47968, 87513, 18)  4.796888e+11        2   \n",
       "4  (47969, 87513, 18)  XYZ tile (47969, 87513, 18)  4.796988e+11        2   \n",
       "\n",
       "  name                                           geometry  \n",
       "0  02L  POLYGON ((281388.362 5678062.191, 281392.439 5...  \n",
       "1  02L  POLYGON ((281484.255 5678058.105, 281488.329 5...  \n",
       "2  02L  POLYGON ((281580.147 5678054.020, 281584.220 5...  \n",
       "3  02L  POLYGON ((281676.040 5678049.937, 281680.111 5...  \n",
       "4  02L  POLYGON ((281771.933 5678045.856, 281776.002 5...  "
      ]
     },
     "execution_count": 8,
     "metadata": {},
     "output_type": "execute_result"
    }
   ],
   "source": [
    "grid.head()"
   ]
  },
  {
   "cell_type": "code",
   "execution_count": 9,
   "metadata": {},
   "outputs": [],
   "source": [
    "attrs = attrs.to_crs(epsg=32612)"
   ]
  },
  {
   "cell_type": "code",
   "execution_count": 10,
   "metadata": {},
   "outputs": [
    {
     "data": {
      "text/plain": [
       "3         1819.194151\n",
       "4          252.852837\n",
       "9          280.625098\n",
       "10         280.464699\n",
       "11         958.281089\n",
       "             ...     \n",
       "374576     305.671823\n",
       "374613     256.257866\n",
       "374617     863.764459\n",
       "374618     780.298167\n",
       "374621     280.060840\n",
       "Length: 435479, dtype: float64"
      ]
     },
     "execution_count": 10,
     "metadata": {},
     "output_type": "execute_result"
    }
   ],
   "source": [
    "attrs.area"
   ]
  },
  {
   "cell_type": "code",
   "execution_count": 11,
   "metadata": {},
   "outputs": [
    {
     "data": {
      "text/html": [
       "<div>\n",
       "<style scoped>\n",
       "    .dataframe tbody tr th:only-of-type {\n",
       "        vertical-align: middle;\n",
       "    }\n",
       "\n",
       "    .dataframe tbody tr th {\n",
       "        vertical-align: top;\n",
       "    }\n",
       "\n",
       "    .dataframe thead th {\n",
       "        text-align: right;\n",
       "    }\n",
       "</style>\n",
       "<table border=\"1\" class=\"dataframe\">\n",
       "  <thead>\n",
       "    <tr style=\"text-align: right;\">\n",
       "      <th></th>\n",
       "      <th>SHAPE_Area</th>\n",
       "      <th>geometry</th>\n",
       "      <th>index_right</th>\n",
       "      <th>STRUCTURE_ID</th>\n",
       "      <th>BUILDING_HEIGHT_MIN</th>\n",
       "      <th>SUBCLASS</th>\n",
       "      <th>SPACE_AYOC</th>\n",
       "      <th>SHAPE_Area_y</th>\n",
       "      <th>floor</th>\n",
       "      <th>floor_number</th>\n",
       "      <th>floor_area</th>\n",
       "      <th>far</th>\n",
       "      <th>bsc</th>\n",
       "    </tr>\n",
       "  </thead>\n",
       "  <tbody>\n",
       "    <tr>\n",
       "      <th>3</th>\n",
       "      <td>1818.213538</td>\n",
       "      <td>MULTIPOLYGON (((284587.031 5658753.918, 284541...</td>\n",
       "      <td>57280.0</td>\n",
       "      <td>1397233.0</td>\n",
       "      <td>9.800000</td>\n",
       "      <td>Residential</td>\n",
       "      <td>1962.0</td>\n",
       "      <td>432.311493</td>\n",
       "      <td>1.225000</td>\n",
       "      <td>1.0</td>\n",
       "      <td>432.311493</td>\n",
       "      <td>0.237767</td>\n",
       "      <td>0.237767</td>\n",
       "    </tr>\n",
       "    <tr>\n",
       "      <th>4</th>\n",
       "      <td>252.704619</td>\n",
       "      <td>MULTIPOLYGON (((279978.049 5660948.528, 280011...</td>\n",
       "      <td>959007.0</td>\n",
       "      <td>2511967.0</td>\n",
       "      <td>6.792218</td>\n",
       "      <td>Residential</td>\n",
       "      <td>2018.0</td>\n",
       "      <td>144.041183</td>\n",
       "      <td>0.849027</td>\n",
       "      <td>1.0</td>\n",
       "      <td>144.041183</td>\n",
       "      <td>0.569998</td>\n",
       "      <td>0.569998</td>\n",
       "    </tr>\n",
       "    <tr>\n",
       "      <th>9</th>\n",
       "      <td>280.457889</td>\n",
       "      <td>MULTIPOLYGON (((279062.583 5657040.859, 279064...</td>\n",
       "      <td>994809.0</td>\n",
       "      <td>2364500.0</td>\n",
       "      <td>6.792218</td>\n",
       "      <td>Residential</td>\n",
       "      <td>2015.0</td>\n",
       "      <td>172.310664</td>\n",
       "      <td>0.849027</td>\n",
       "      <td>1.0</td>\n",
       "      <td>172.310664</td>\n",
       "      <td>0.614391</td>\n",
       "      <td>0.614391</td>\n",
       "    </tr>\n",
       "    <tr>\n",
       "      <th>10</th>\n",
       "      <td>280.297608</td>\n",
       "      <td>MULTIPOLYGON (((279072.035 5657075.524, 279080...</td>\n",
       "      <td>958276.0</td>\n",
       "      <td>2466405.0</td>\n",
       "      <td>3.478505</td>\n",
       "      <td>Others</td>\n",
       "      <td>2015.0</td>\n",
       "      <td>74.420055</td>\n",
       "      <td>0.496929</td>\n",
       "      <td>1.0</td>\n",
       "      <td>74.420055</td>\n",
       "      <td>0.265504</td>\n",
       "      <td>0.265504</td>\n",
       "    </tr>\n",
       "    <tr>\n",
       "      <th>11</th>\n",
       "      <td>957.741683</td>\n",
       "      <td>MULTIPOLYGON (((282271.324 5658588.122, 282271...</td>\n",
       "      <td>1672482.0</td>\n",
       "      <td>1005078.0</td>\n",
       "      <td>8.750000</td>\n",
       "      <td>Commercial</td>\n",
       "      <td>1952.0</td>\n",
       "      <td>235.839073</td>\n",
       "      <td>1.250000</td>\n",
       "      <td>1.0</td>\n",
       "      <td>235.839073</td>\n",
       "      <td>0.246245</td>\n",
       "      <td>0.246245</td>\n",
       "    </tr>\n",
       "  </tbody>\n",
       "</table>\n",
       "</div>"
      ],
      "text/plain": [
       "     SHAPE_Area                                           geometry  \\\n",
       "3   1818.213538  MULTIPOLYGON (((284587.031 5658753.918, 284541...   \n",
       "4    252.704619  MULTIPOLYGON (((279978.049 5660948.528, 280011...   \n",
       "9    280.457889  MULTIPOLYGON (((279062.583 5657040.859, 279064...   \n",
       "10   280.297608  MULTIPOLYGON (((279072.035 5657075.524, 279080...   \n",
       "11   957.741683  MULTIPOLYGON (((282271.324 5658588.122, 282271...   \n",
       "\n",
       "    index_right  STRUCTURE_ID  BUILDING_HEIGHT_MIN     SUBCLASS  SPACE_AYOC  \\\n",
       "3       57280.0     1397233.0             9.800000  Residential      1962.0   \n",
       "4      959007.0     2511967.0             6.792218  Residential      2018.0   \n",
       "9      994809.0     2364500.0             6.792218  Residential      2015.0   \n",
       "10     958276.0     2466405.0             3.478505       Others      2015.0   \n",
       "11    1672482.0     1005078.0             8.750000   Commercial      1952.0   \n",
       "\n",
       "    SHAPE_Area_y     floor  floor_number  floor_area       far       bsc  \n",
       "3     432.311493  1.225000           1.0  432.311493  0.237767  0.237767  \n",
       "4     144.041183  0.849027           1.0  144.041183  0.569998  0.569998  \n",
       "9     172.310664  0.849027           1.0  172.310664  0.614391  0.614391  \n",
       "10     74.420055  0.496929           1.0   74.420055  0.265504  0.265504  \n",
       "11    235.839073  1.250000           1.0  235.839073  0.246245  0.246245  "
      ]
     },
     "execution_count": 11,
     "metadata": {},
     "output_type": "execute_result"
    }
   ],
   "source": [
    "attrs.head()"
   ]
  },
  {
   "cell_type": "code",
   "execution_count": 12,
   "metadata": {},
   "outputs": [],
   "source": [
    "attrs = (attrs.assign(centroid=lambda x: x.centroid)\n",
    "              .rename(columns={'geometry': 'parcel_boundary'})\n",
    "              .set_geometry('centroid'))"
   ]
  },
  {
   "cell_type": "code",
   "execution_count": 13,
   "metadata": {},
   "outputs": [
    {
     "data": {
      "text/html": [
       "<div>\n",
       "<style scoped>\n",
       "    .dataframe tbody tr th:only-of-type {\n",
       "        vertical-align: middle;\n",
       "    }\n",
       "\n",
       "    .dataframe tbody tr th {\n",
       "        vertical-align: top;\n",
       "    }\n",
       "\n",
       "    .dataframe thead th {\n",
       "        text-align: right;\n",
       "    }\n",
       "</style>\n",
       "<table border=\"1\" class=\"dataframe\">\n",
       "  <thead>\n",
       "    <tr style=\"text-align: right;\">\n",
       "      <th></th>\n",
       "      <th>SHAPE_Area</th>\n",
       "      <th>parcel_boundary</th>\n",
       "      <th>index_right</th>\n",
       "      <th>STRUCTURE_ID</th>\n",
       "      <th>BUILDING_HEIGHT_MIN</th>\n",
       "      <th>SUBCLASS</th>\n",
       "      <th>SPACE_AYOC</th>\n",
       "      <th>SHAPE_Area_y</th>\n",
       "      <th>floor</th>\n",
       "      <th>floor_number</th>\n",
       "      <th>floor_area</th>\n",
       "      <th>far</th>\n",
       "      <th>bsc</th>\n",
       "      <th>centroid</th>\n",
       "    </tr>\n",
       "  </thead>\n",
       "  <tbody>\n",
       "    <tr>\n",
       "      <th>3</th>\n",
       "      <td>1818.213538</td>\n",
       "      <td>MULTIPOLYGON (((284587.031 5658753.918, 284541...</td>\n",
       "      <td>57280.0</td>\n",
       "      <td>1397233.0</td>\n",
       "      <td>9.800000</td>\n",
       "      <td>Residential</td>\n",
       "      <td>1962.0</td>\n",
       "      <td>432.311493</td>\n",
       "      <td>1.225000</td>\n",
       "      <td>1.0</td>\n",
       "      <td>432.311493</td>\n",
       "      <td>0.237767</td>\n",
       "      <td>0.237767</td>\n",
       "      <td>POINT (284565.969 5658775.710)</td>\n",
       "    </tr>\n",
       "    <tr>\n",
       "      <th>4</th>\n",
       "      <td>252.704619</td>\n",
       "      <td>MULTIPOLYGON (((279978.049 5660948.528, 280011...</td>\n",
       "      <td>959007.0</td>\n",
       "      <td>2511967.0</td>\n",
       "      <td>6.792218</td>\n",
       "      <td>Residential</td>\n",
       "      <td>2018.0</td>\n",
       "      <td>144.041183</td>\n",
       "      <td>0.849027</td>\n",
       "      <td>1.0</td>\n",
       "      <td>144.041183</td>\n",
       "      <td>0.569998</td>\n",
       "      <td>0.569998</td>\n",
       "      <td>POINT (279994.464 5660944.016)</td>\n",
       "    </tr>\n",
       "    <tr>\n",
       "      <th>9</th>\n",
       "      <td>280.457889</td>\n",
       "      <td>MULTIPOLYGON (((279062.583 5657040.859, 279064...</td>\n",
       "      <td>994809.0</td>\n",
       "      <td>2364500.0</td>\n",
       "      <td>6.792218</td>\n",
       "      <td>Residential</td>\n",
       "      <td>2015.0</td>\n",
       "      <td>172.310664</td>\n",
       "      <td>0.849027</td>\n",
       "      <td>1.0</td>\n",
       "      <td>172.310664</td>\n",
       "      <td>0.614391</td>\n",
       "      <td>0.614391</td>\n",
       "      <td>POINT (279067.309 5657058.191)</td>\n",
       "    </tr>\n",
       "    <tr>\n",
       "      <th>10</th>\n",
       "      <td>280.297608</td>\n",
       "      <td>MULTIPOLYGON (((279072.035 5657075.524, 279080...</td>\n",
       "      <td>958276.0</td>\n",
       "      <td>2466405.0</td>\n",
       "      <td>3.478505</td>\n",
       "      <td>Others</td>\n",
       "      <td>2015.0</td>\n",
       "      <td>74.420055</td>\n",
       "      <td>0.496929</td>\n",
       "      <td>1.0</td>\n",
       "      <td>74.420055</td>\n",
       "      <td>0.265504</td>\n",
       "      <td>0.265504</td>\n",
       "      <td>POINT (279075.300 5657057.819)</td>\n",
       "    </tr>\n",
       "    <tr>\n",
       "      <th>11</th>\n",
       "      <td>957.741683</td>\n",
       "      <td>MULTIPOLYGON (((282271.324 5658588.122, 282271...</td>\n",
       "      <td>1672482.0</td>\n",
       "      <td>1005078.0</td>\n",
       "      <td>8.750000</td>\n",
       "      <td>Commercial</td>\n",
       "      <td>1952.0</td>\n",
       "      <td>235.839073</td>\n",
       "      <td>1.250000</td>\n",
       "      <td>1.0</td>\n",
       "      <td>235.839073</td>\n",
       "      <td>0.246245</td>\n",
       "      <td>0.246245</td>\n",
       "      <td>POINT (282255.932 5658596.401)</td>\n",
       "    </tr>\n",
       "  </tbody>\n",
       "</table>\n",
       "</div>"
      ],
      "text/plain": [
       "     SHAPE_Area                                    parcel_boundary  \\\n",
       "3   1818.213538  MULTIPOLYGON (((284587.031 5658753.918, 284541...   \n",
       "4    252.704619  MULTIPOLYGON (((279978.049 5660948.528, 280011...   \n",
       "9    280.457889  MULTIPOLYGON (((279062.583 5657040.859, 279064...   \n",
       "10   280.297608  MULTIPOLYGON (((279072.035 5657075.524, 279080...   \n",
       "11   957.741683  MULTIPOLYGON (((282271.324 5658588.122, 282271...   \n",
       "\n",
       "    index_right  STRUCTURE_ID  BUILDING_HEIGHT_MIN     SUBCLASS  SPACE_AYOC  \\\n",
       "3       57280.0     1397233.0             9.800000  Residential      1962.0   \n",
       "4      959007.0     2511967.0             6.792218  Residential      2018.0   \n",
       "9      994809.0     2364500.0             6.792218  Residential      2015.0   \n",
       "10     958276.0     2466405.0             3.478505       Others      2015.0   \n",
       "11    1672482.0     1005078.0             8.750000   Commercial      1952.0   \n",
       "\n",
       "    SHAPE_Area_y     floor  floor_number  floor_area       far       bsc  \\\n",
       "3     432.311493  1.225000           1.0  432.311493  0.237767  0.237767   \n",
       "4     144.041183  0.849027           1.0  144.041183  0.569998  0.569998   \n",
       "9     172.310664  0.849027           1.0  172.310664  0.614391  0.614391   \n",
       "10     74.420055  0.496929           1.0   74.420055  0.265504  0.265504   \n",
       "11    235.839073  1.250000           1.0  235.839073  0.246245  0.246245   \n",
       "\n",
       "                          centroid  \n",
       "3   POINT (284565.969 5658775.710)  \n",
       "4   POINT (279994.464 5660944.016)  \n",
       "9   POINT (279067.309 5657058.191)  \n",
       "10  POINT (279075.300 5657057.819)  \n",
       "11  POINT (282255.932 5658596.401)  "
      ]
     },
     "execution_count": 13,
     "metadata": {},
     "output_type": "execute_result"
    }
   ],
   "source": [
    "attrs.head()"
   ]
  },
  {
   "cell_type": "code",
   "execution_count": 14,
   "metadata": {},
   "outputs": [],
   "source": [
    "attrs['year'] = pd.cut(attrs.SPACE_AYOC, bins=[0, 2013, 2014, 2015, 2016, 2017, 2018, 2019, 2020], labels=[2013, 2014, 2015, 2016, 2017, 2018, 2019, 2020])"
   ]
  },
  {
   "cell_type": "code",
   "execution_count": 15,
   "metadata": {},
   "outputs": [],
   "source": [
    "attrs_by_year = {year: grp for year, grp in attrs.groupby('year')}"
   ]
  },
  {
   "cell_type": "code",
   "execution_count": 16,
   "metadata": {},
   "outputs": [
    {
     "data": {
      "text/html": [
       "<div>\n",
       "<style scoped>\n",
       "    .dataframe tbody tr th:only-of-type {\n",
       "        vertical-align: middle;\n",
       "    }\n",
       "\n",
       "    .dataframe tbody tr th {\n",
       "        vertical-align: top;\n",
       "    }\n",
       "\n",
       "    .dataframe thead th {\n",
       "        text-align: right;\n",
       "    }\n",
       "</style>\n",
       "<table border=\"1\" class=\"dataframe\">\n",
       "  <thead>\n",
       "    <tr style=\"text-align: right;\">\n",
       "      <th></th>\n",
       "      <th>SHAPE_Area</th>\n",
       "      <th>parcel_boundary</th>\n",
       "      <th>index_right</th>\n",
       "      <th>STRUCTURE_ID</th>\n",
       "      <th>BUILDING_HEIGHT_MIN</th>\n",
       "      <th>SUBCLASS</th>\n",
       "      <th>SPACE_AYOC</th>\n",
       "      <th>SHAPE_Area_y</th>\n",
       "      <th>floor</th>\n",
       "      <th>floor_number</th>\n",
       "      <th>floor_area</th>\n",
       "      <th>far</th>\n",
       "      <th>bsc</th>\n",
       "      <th>centroid</th>\n",
       "      <th>year</th>\n",
       "    </tr>\n",
       "  </thead>\n",
       "  <tbody>\n",
       "    <tr>\n",
       "      <th>3</th>\n",
       "      <td>1818.213538</td>\n",
       "      <td>MULTIPOLYGON (((284587.031 5658753.918, 284541...</td>\n",
       "      <td>57280.0</td>\n",
       "      <td>1397233.0</td>\n",
       "      <td>9.800000</td>\n",
       "      <td>Residential</td>\n",
       "      <td>1962.0</td>\n",
       "      <td>432.311493</td>\n",
       "      <td>1.225000</td>\n",
       "      <td>1.0</td>\n",
       "      <td>432.311493</td>\n",
       "      <td>0.237767</td>\n",
       "      <td>0.237767</td>\n",
       "      <td>POINT (284565.969 5658775.710)</td>\n",
       "      <td>2013</td>\n",
       "    </tr>\n",
       "    <tr>\n",
       "      <th>11</th>\n",
       "      <td>957.741683</td>\n",
       "      <td>MULTIPOLYGON (((282271.324 5658588.122, 282271...</td>\n",
       "      <td>1672482.0</td>\n",
       "      <td>1005078.0</td>\n",
       "      <td>8.750000</td>\n",
       "      <td>Commercial</td>\n",
       "      <td>1952.0</td>\n",
       "      <td>235.839073</td>\n",
       "      <td>1.250000</td>\n",
       "      <td>1.0</td>\n",
       "      <td>235.839073</td>\n",
       "      <td>0.246245</td>\n",
       "      <td>0.246245</td>\n",
       "      <td>POINT (282255.932 5658596.401)</td>\n",
       "      <td>2013</td>\n",
       "    </tr>\n",
       "    <tr>\n",
       "      <th>12</th>\n",
       "      <td>1155.865770</td>\n",
       "      <td>MULTIPOLYGON (((279563.975 5674007.345, 279557...</td>\n",
       "      <td>1666995.0</td>\n",
       "      <td>1587676.0</td>\n",
       "      <td>6.792218</td>\n",
       "      <td>Residential</td>\n",
       "      <td>2013.0</td>\n",
       "      <td>492.244818</td>\n",
       "      <td>0.849027</td>\n",
       "      <td>1.0</td>\n",
       "      <td>492.244818</td>\n",
       "      <td>0.425867</td>\n",
       "      <td>0.425867</td>\n",
       "      <td>POINT (279561.651 5674020.450)</td>\n",
       "      <td>2013</td>\n",
       "    </tr>\n",
       "    <tr>\n",
       "      <th>24</th>\n",
       "      <td>278.555030</td>\n",
       "      <td>MULTIPOLYGON (((285859.778 5662576.655, 285858...</td>\n",
       "      <td>998218.0</td>\n",
       "      <td>2330072.0</td>\n",
       "      <td>6.792218</td>\n",
       "      <td>Residential</td>\n",
       "      <td>2013.0</td>\n",
       "      <td>169.803595</td>\n",
       "      <td>0.849027</td>\n",
       "      <td>1.0</td>\n",
       "      <td>169.803595</td>\n",
       "      <td>0.609587</td>\n",
       "      <td>0.609587</td>\n",
       "      <td>POINT (285855.233 5662558.540)</td>\n",
       "      <td>2013</td>\n",
       "    </tr>\n",
       "    <tr>\n",
       "      <th>35</th>\n",
       "      <td>326.947327</td>\n",
       "      <td>MULTIPOLYGON (((283977.676 5665520.851, 283946...</td>\n",
       "      <td>823739.0</td>\n",
       "      <td>1141032.0</td>\n",
       "      <td>4.140000</td>\n",
       "      <td>Residential</td>\n",
       "      <td>1967.0</td>\n",
       "      <td>217.050462</td>\n",
       "      <td>0.517500</td>\n",
       "      <td>1.0</td>\n",
       "      <td>217.050462</td>\n",
       "      <td>0.663870</td>\n",
       "      <td>0.663870</td>\n",
       "      <td>POINT (283964.245 5665532.007)</td>\n",
       "      <td>2013</td>\n",
       "    </tr>\n",
       "  </tbody>\n",
       "</table>\n",
       "</div>"
      ],
      "text/plain": [
       "     SHAPE_Area                                    parcel_boundary  \\\n",
       "3   1818.213538  MULTIPOLYGON (((284587.031 5658753.918, 284541...   \n",
       "11   957.741683  MULTIPOLYGON (((282271.324 5658588.122, 282271...   \n",
       "12  1155.865770  MULTIPOLYGON (((279563.975 5674007.345, 279557...   \n",
       "24   278.555030  MULTIPOLYGON (((285859.778 5662576.655, 285858...   \n",
       "35   326.947327  MULTIPOLYGON (((283977.676 5665520.851, 283946...   \n",
       "\n",
       "    index_right  STRUCTURE_ID  BUILDING_HEIGHT_MIN     SUBCLASS  SPACE_AYOC  \\\n",
       "3       57280.0     1397233.0             9.800000  Residential      1962.0   \n",
       "11    1672482.0     1005078.0             8.750000   Commercial      1952.0   \n",
       "12    1666995.0     1587676.0             6.792218  Residential      2013.0   \n",
       "24     998218.0     2330072.0             6.792218  Residential      2013.0   \n",
       "35     823739.0     1141032.0             4.140000  Residential      1967.0   \n",
       "\n",
       "    SHAPE_Area_y     floor  floor_number  floor_area       far       bsc  \\\n",
       "3     432.311493  1.225000           1.0  432.311493  0.237767  0.237767   \n",
       "11    235.839073  1.250000           1.0  235.839073  0.246245  0.246245   \n",
       "12    492.244818  0.849027           1.0  492.244818  0.425867  0.425867   \n",
       "24    169.803595  0.849027           1.0  169.803595  0.609587  0.609587   \n",
       "35    217.050462  0.517500           1.0  217.050462  0.663870  0.663870   \n",
       "\n",
       "                          centroid  year  \n",
       "3   POINT (284565.969 5658775.710)  2013  \n",
       "11  POINT (282255.932 5658596.401)  2013  \n",
       "12  POINT (279561.651 5674020.450)  2013  \n",
       "24  POINT (285855.233 5662558.540)  2013  \n",
       "35  POINT (283964.245 5665532.007)  2013  "
      ]
     },
     "execution_count": 16,
     "metadata": {},
     "output_type": "execute_result"
    }
   ],
   "source": [
    "attrs_by_year[2013].head()"
   ]
  },
  {
   "cell_type": "code",
   "execution_count": null,
   "metadata": {},
   "outputs": [],
   "source": []
  },
  {
   "cell_type": "code",
   "execution_count": 17,
   "metadata": {},
   "outputs": [],
   "source": [
    "attrs = attrs.drop(columns='index_right')"
   ]
  },
  {
   "cell_type": "code",
   "execution_count": 18,
   "metadata": {},
   "outputs": [
    {
     "name": "stdout",
     "output_type": "stream",
     "text": [
      "Processing... 2013\n",
      "Processing... 2014\n",
      "Processing... 2015\n",
      "Processing... 2016\n",
      "Processing... 2017\n",
      "Processing... 2018\n",
      "Processing... 2019\n",
      "Processing... 2020\n"
     ]
    }
   ],
   "source": [
    "grid_attrs = {}\n",
    "\n",
    "def mode(s):\n",
    "    if s.value_counts().empty: return 0\n",
    "    else: return s.value_counts().index[0]\n",
    "\n",
    "def process(year):\n",
    "    df = gpd.sjoin(left_df=grid, right_df=attrs[attrs.year <= year], how='left', op='intersects')\n",
    "    df = df.groupby('idx').agg({\n",
    "        'SHAPE_Area': ['mean', 'median', 'sum'],\n",
    "        'SHAPE_Area_y': ['mean', 'median', 'sum','count'],\n",
    "        'floor_area': ['mean', 'median', 'sum'],\n",
    "        'far': ['mean', 'median', 'sum'],\n",
    "        'bsc': ['mean', 'median', 'sum'],\n",
    "        'BUILDING_HEIGHT_MIN': ['mean', 'median', 'sum'],\n",
    "        'parcel_boundary': 'count',\n",
    "        'floor_number': ['sum', 'mean', 'median'],\n",
    "        'floor_number': ['sum', 'mean', 'median', mode],\n",
    "        'SUBCLASS': [mode]\n",
    "    }).reset_index()\n",
    "\n",
    "    df.columns = ['_'.join(c) for c in df.columns.values]\n",
    "    df['year'] = year\n",
    "    \n",
    "    return df\n",
    "    \n",
    "\n",
    "for year in range(2013, 2021):\n",
    "    print(f'Processing... {year}')\n",
    "    grid_attrs[year] = process(year)"
   ]
  },
  {
   "cell_type": "code",
   "execution_count": 19,
   "metadata": {},
   "outputs": [],
   "source": [
    "grid_attrs_yearly = pd.concat([df for year, df in grid_attrs.items()])"
   ]
  },
  {
   "cell_type": "code",
   "execution_count": 20,
   "metadata": {},
   "outputs": [],
   "source": [
    "grid_attrs_yearly.rename(columns={'idx_': 'idx'}, inplace=True)"
   ]
  },
  {
   "cell_type": "code",
   "execution_count": 21,
   "metadata": {},
   "outputs": [],
   "source": [
    "grid_attrs_yearly.sort_values(by=['idx', 'year'], inplace=True)"
   ]
  },
  {
   "cell_type": "code",
   "execution_count": 22,
   "metadata": {},
   "outputs": [],
   "source": [
    "grid_attrs_yearly = grid_attrs_yearly.reset_index(drop=True)"
   ]
  },
  {
   "cell_type": "code",
   "execution_count": 23,
   "metadata": {},
   "outputs": [],
   "source": [
    "grid_attrs_yearly.SUBCLASS_mode = grid_attrs_yearly.SUBCLASS_mode.astype('str')"
   ]
  },
  {
   "cell_type": "code",
   "execution_count": 24,
   "metadata": {},
   "outputs": [],
   "source": [
    "grid_attrs_yearly.to_feather(f'{data}/attrs_yearly.feather')"
   ]
  },
  {
   "cell_type": "code",
   "execution_count": null,
   "metadata": {},
   "outputs": [],
   "source": []
  }
 ],
 "metadata": {
  "kernelspec": {
   "display_name": "Python 3",
   "language": "python",
   "name": "python3"
  },
  "language_info": {
   "codemirror_mode": {
    "name": "ipython",
    "version": 3
   },
   "file_extension": ".py",
   "mimetype": "text/x-python",
   "name": "python",
   "nbconvert_exporter": "python",
   "pygments_lexer": "ipython3",
   "version": "3.7.9"
  }
 },
 "nbformat": 4,
 "nbformat_minor": 4
}
